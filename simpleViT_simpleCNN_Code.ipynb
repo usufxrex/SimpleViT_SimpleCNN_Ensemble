{
  "nbformat": 4,
  "nbformat_minor": 0,
  "metadata": {
    "colab": {
      "provenance": []
    },
    "kernelspec": {
      "name": "python3",
      "display_name": "Python 3"
    },
    "language_info": {
      "name": "python"
    }
  },
  "cells": [
    {
      "cell_type": "code",
      "execution_count": null,
      "metadata": {
        "id": "Co0IJUT-e4xi"
      },
      "outputs": [],
      "source": [
        "import os\n",
        "import cv2\n",
        "import numpy as np\n",
        "import pandas as pd\n",
        "import matplotlib.pyplot as plt\n",
        "import seaborn as sns\n",
        "from sklearn.model_selection import train_test_split\n",
        "from sklearn.metrics import classification_report, confusion_matrix\n",
        "import tensorflow as tf\n",
        "from tensorflow.keras import layers, models"
      ]
    },
    {
      "cell_type": "code",
      "source": [
        "# GPU configuration\n",
        "!nvidia-smi"
      ],
      "metadata": {
        "id": "NcXLiD0AfTeB"
      },
      "execution_count": null,
      "outputs": []
    },
    {
      "cell_type": "code",
      "source": [
        "# Install required packages\n",
        "!pip install tensorflow==2.12.0 tensorflow-addons==0.20.0 keras==2.12.0\n",
        "!pip install typeguard==2.13.3 inflect==6.0.2\n",
        "!pip install visualkeras\n",
        "!pip install numpy==1.23.5"
      ],
      "metadata": {
        "id": "raXvHHs_fXqL"
      },
      "execution_count": null,
      "outputs": []
    },
    {
      "cell_type": "code",
      "source": [
        "# Mount Google Drive\n",
        "from google.colab import drive\n",
        "drive.mount('/content/drive')"
      ],
      "metadata": {
        "id": "6L0cZenAfYFR"
      },
      "execution_count": null,
      "outputs": []
    },
    {
      "cell_type": "code",
      "source": [
        "# Define labels and image size\n",
        "labels = [\"Citrus canker\", \"Citrus greening\", \"Citrus mealybugs\", \"Die back\", \"Foliage damaged\", \"Healthy leaf\", \"Powdery mildew\", \"Shot hole\", \"Spiny whitefly\", \"Yellow dragon\", \"Yellow leaves\"]\n",
        "img_size = 32"
      ],
      "metadata": {
        "id": "9E-ROHyafaNt"
      },
      "execution_count": null,
      "outputs": []
    },
    {
      "cell_type": "code",
      "source": [
        "# Data loading function\n",
        "def get_data(data_dir):\n",
        "    data = []\n",
        "    for label in labels:\n",
        "        path = os.path.join(data_dir, label)\n",
        "        class_num = labels.index(label)\n",
        "        for img in os.listdir(path):\n",
        "            try:\n",
        "                img_arr = cv2.imread(os.path.join(path, img))[...,::-1]\n",
        "                resized_arr = cv2.resize(img_arr, (img_size, img_size))\n",
        "                data.append([resized_arr, class_num])\n",
        "            except Exception as e:\n",
        "                print(e)\n",
        "    return np.array(data)"
      ],
      "metadata": {
        "id": "Q-JggzmgfcGp"
      },
      "execution_count": null,
      "outputs": []
    },
    {
      "cell_type": "code",
      "source": [
        "# Load and preprocess data\n",
        "data_dir = get_data(\"/content/drive/Shareddrives/4IR_Research_Students/Emon/Sweet_orange\")\n",
        "X = np.array([i[0] for i in data_dir]) / 255.0\n",
        "Y = np.array([i[1] for i in data_dir])"
      ],
      "metadata": {
        "id": "ELfZ3mG3feVP"
      },
      "execution_count": null,
      "outputs": []
    },
    {
      "cell_type": "code",
      "source": [
        "# Split data\n",
        "x_train, x_test, y_train, y_test = train_test_split(X, Y, test_size=0.10, stratify=Y, random_state=42)\n",
        "x_train, x_val, y_train, y_val = train_test_split(x_train, y_train, test_size=0.18, random_state=8)\n",
        "\n",
        "print(f\"x_train shape: {x_train.shape} - y_train shape: {y_train.shape}\")\n",
        "print(f\"x_val shape: {x_val.shape} - y_val shape: {y_val.shape}\")\n",
        "print(f\"x_test shape: {x_test.shape} - y_test shape: {y_test.shape}\")"
      ],
      "metadata": {
        "id": "BhzKygAafhEG"
      },
      "execution_count": null,
      "outputs": []
    },
    {
      "cell_type": "code",
      "source": [
        "def create_simple_cnn_model(input_shape):\n",
        "    model = models.Sequential([\n",
        "        layers.Conv2D(32, (3, 3), activation='relu', input_shape=input_shape),\n",
        "        layers.MaxPooling2D((2, 2)),\n",
        "        layers.Conv2D(64, (3, 3), activation='relu'),\n",
        "        layers.MaxPooling2D((2, 2)),\n",
        "        layers.Conv2D(64, (3, 3), activation='relu'),\n",
        "        layers.GlobalAveragePooling2D(),\n",
        "        layers.Dense(128, activation='relu'),\n",
        "        layers.Dropout(0.5)\n",
        "    ])\n",
        "    return model\n"
      ],
      "metadata": {
        "id": "ulqTqvQHfjgA"
      },
      "execution_count": null,
      "outputs": []
    },
    {
      "cell_type": "code",
      "source": [
        "def create_simple_vit_model(input_dim, num_classes=11):\n",
        "    num_patches = 16\n",
        "    projection_dim = 64\n",
        "    num_heads = 8\n",
        "\n",
        "    inputs = layers.Input(shape=(input_dim,))\n",
        "    x = layers.Dense(num_patches * projection_dim)(inputs)\n",
        "    x = layers.Reshape((num_patches, projection_dim))(x)\n",
        "\n",
        "    # Single Transformer layer\n",
        "    attn_output = layers.MultiHeadAttention(num_heads=num_heads, key_dim=projection_dim)(x, x)\n",
        "    x = layers.Add()([x, attn_output])\n",
        "    x = layers.LayerNormalization(epsilon=1e-6)(x)\n",
        "\n",
        "    x = layers.Dense(projection_dim * 2, activation=\"gelu\")(x)\n",
        "    x = layers.Dense(projection_dim)(x)\n",
        "    x = layers.LayerNormalization(epsilon=1e-6)(x)\n",
        "\n",
        "    x = layers.GlobalAveragePooling1D()(x)\n",
        "    x = layers.Dropout(0.2)(x)\n",
        "    outputs = layers.Dense(num_classes, activation=\"softmax\")(x)\n",
        "\n",
        "    return models.Model(inputs, outputs)"
      ],
      "metadata": {
        "id": "0fTDti9Ufo_7"
      },
      "execution_count": null,
      "outputs": []
    },
    {
      "cell_type": "code",
      "source": [
        "def create_integrated_model(input_shape, num_classes=11):\n",
        "    cnn_model = create_simple_cnn_model(input_shape)\n",
        "    cnn_output = cnn_model.output_shape[1]\n",
        "    vit_model = create_simple_vit_model(cnn_output, num_classes)\n",
        "\n",
        "    inputs = layers.Input(shape=input_shape)\n",
        "    x = cnn_model(inputs)\n",
        "    outputs = vit_model(x)\n",
        "\n",
        "    return models.Model(inputs, outputs)"
      ],
      "metadata": {
        "id": "_qe3Sajofs6d"
      },
      "execution_count": null,
      "outputs": []
    },
    {
      "cell_type": "code",
      "source": [
        "# Create and compile the model\n",
        "input_shape = (32, 32, 3)\n",
        "num_classes = 11\n",
        "integrated_model = create_integrated_model(input_shape, num_classes)\n",
        "integrated_model.compile(\n",
        "    optimizer=tf.keras.optimizers.Adam(learning_rate=1e-4),\n",
        "    loss='sparse_categorical_crossentropy',\n",
        "    metrics=['accuracy']\n",
        ")"
      ],
      "metadata": {
        "id": "njQzdG7Lf0r9"
      },
      "execution_count": null,
      "outputs": []
    },
    {
      "cell_type": "code",
      "source": [
        "# Data augmentation\n",
        "data_augmentation = tf.keras.Sequential([\n",
        "    layers.RandomFlip(\"horizontal\"),\n",
        "    layers.RandomRotation(0.1),\n",
        "    layers.RandomZoom(0.1),\n",
        "])\n"
      ],
      "metadata": {
        "id": "pe1Zhm3gf7XY"
      },
      "execution_count": null,
      "outputs": []
    },
    {
      "cell_type": "code",
      "source": [
        "# Callbacks\n",
        "callbacks = [\n",
        "    tf.keras.callbacks.EarlyStopping(patience=10, restore_best_weights=True),\n",
        "    tf.keras.callbacks.ReduceLROnPlateau(factor=0.1, patience=5),\n",
        "]\n"
      ],
      "metadata": {
        "id": "JO_DTwG4f76g"
      },
      "execution_count": null,
      "outputs": []
    },
    {
      "cell_type": "code",
      "source": [
        "# Train the model\n",
        "history = integrated_model.fit(\n",
        "    data_augmentation(x_train),\n",
        "    y_train,\n",
        "    validation_data=(x_val, y_val),\n",
        "    epochs=100,\n",
        "    batch_size=32,\n",
        "    callbacks=callbacks\n",
        ")\n"
      ],
      "metadata": {
        "id": "lRYjnlA7f92z"
      },
      "execution_count": null,
      "outputs": []
    },
    {
      "cell_type": "code",
      "source": [
        "# Evaluate the model\n",
        "train_loss, train_accuracy = integrated_model.evaluate(x_train, y_train)\n",
        "test_loss, test_accuracy = integrated_model.evaluate(x_test, y_test)\n",
        "\n",
        "print(f\"Train Loss: {train_loss:.4f}, Train Accuracy: {train_accuracy:.4f}\")\n",
        "print(f\"Test Loss: {test_loss:.4f}, Test Accuracy: {test_accuracy:.4f}\")"
      ],
      "metadata": {
        "id": "BKDTA5HJf_sd"
      },
      "execution_count": null,
      "outputs": []
    },
    {
      "cell_type": "code",
      "source": [
        "plt.figure(figsize=(12, 5))\n",
        "plt.subplot(1, 2, 1)\n",
        "plt.plot(history.history['accuracy'], label='Training Accuracy')\n",
        "plt.plot(history.history['val_accuracy'], label='Validation Accuracy')\n",
        "plt.title('Model Accuracy')\n",
        "plt.xlabel('Epoch')\n",
        "plt.ylabel('Accuracy')\n",
        "plt.legend()\n",
        "\n",
        "plt.subplot(1, 2, 2)\n",
        "plt.plot(history.history['loss'], label='Training Loss')\n",
        "plt.plot(history.history['val_loss'], label='Validation Loss')\n",
        "plt.title('Model Loss')\n",
        "plt.xlabel('Epoch')\n",
        "plt.ylabel('Loss')\n",
        "plt.legend()\n",
        "\n",
        "plt.tight_layout()\n",
        "plt.show()"
      ],
      "metadata": {
        "id": "Cu4MDwW4gBwT"
      },
      "execution_count": null,
      "outputs": []
    },
    {
      "cell_type": "code",
      "source": [
        "# Function to plot confusion matrix\n",
        "def plot_confusion_matrix(y_true, y_pred, labels, title):\n",
        "    cm = confusion_matrix(y_true, y_pred)\n",
        "    plt.figure(figsize=(12, 10))\n",
        "    sns.heatmap(cm, annot=True, fmt='d', cmap='Blues', xticklabels=labels, yticklabels=labels)\n",
        "    plt.ylabel('Actual Label')\n",
        "    plt.xlabel('Predicted Label')\n",
        "    plt.title(title)\n",
        "    plt.tight_layout()\n",
        "    plt.show()"
      ],
      "metadata": {
        "id": "ewu1wV3DgDtT"
      },
      "execution_count": null,
      "outputs": []
    },
    {
      "cell_type": "code",
      "source": [
        "# Validation set predictions and metrics\n",
        "y_val_pred = integrated_model.predict(x_val)\n",
        "y_val_pred_classes = np.argmax(y_val_pred, axis=1)\n",
        "\n",
        "print(\"Validation Set Classification Report:\")\n",
        "print(classification_report(y_val, y_val_pred_classes, target_names=labels))\n",
        "\n",
        "plot_confusion_matrix(y_val, y_val_pred_classes, labels, 'Validation Set Confusion Matrix')"
      ],
      "metadata": {
        "id": "vzHBDfUcgFzY"
      },
      "execution_count": null,
      "outputs": []
    },
    {
      "cell_type": "code",
      "source": [
        "# Test set predictions and metrics\n",
        "y_test_pred = integrated_model.predict(x_test)\n",
        "y_test_pred_classes = np.argmax(y_test_pred, axis=1)\n",
        "\n",
        "print(\"Test Set Classification Report:\")\n",
        "print(classification_report(y_test, y_test_pred_classes, target_names=labels))\n",
        "\n",
        "plot_confusion_matrix(y_test, y_test_pred_classes, labels, 'Test Set Confusion Matrix')"
      ],
      "metadata": {
        "id": "kVImeVPxgHo4"
      },
      "execution_count": null,
      "outputs": []
    }
  ]
}